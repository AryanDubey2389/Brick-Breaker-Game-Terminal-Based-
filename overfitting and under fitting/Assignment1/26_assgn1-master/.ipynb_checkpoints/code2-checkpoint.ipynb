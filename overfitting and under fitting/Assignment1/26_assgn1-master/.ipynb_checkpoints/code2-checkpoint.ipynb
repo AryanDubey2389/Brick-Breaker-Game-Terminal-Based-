{
 "cells": [
  {
   "cell_type": "markdown",
   "id": "split-causing",
   "metadata": {},
   "source": [
    "Importing the libraries"
   ]
  },
  {
   "cell_type": "markdown",
   "id": "antique-antique",
   "metadata": {},
   "source": [
    "# Task 2: Calculating Bias and Variance\n",
    "In this question you are going to calculate the bias and variance of your trained model."
   ]
  },
  {
   "cell_type": "code",
   "execution_count": 3,
   "id": "addressed-logistics",
   "metadata": {},
   "outputs": [],
   "source": [
    "import pickle\n",
    "import numpy as np\n",
    "from sklearn.model_selection import train_test_split\n",
    "from sklearn.linear_model import LinearRegression\n",
    "import matplotlib.pyplot as plt\n",
    "from sklearn.preprocessing import PolynomialFeatures\n",
    "from statistics import mean\n",
    "from sklearn.metrics import mean_squared_error\n",
    "from sklearn.pipeline import make_pipeline\n",
    "from scipy.integrate import quad\n",
    "from sklearn.neighbors import KernelDensity\n",
    "import pandas as pd"
   ]
  },
  {
   "cell_type": "code",
   "execution_count": 344,
   "id": "cardiac-picture",
   "metadata": {},
   "outputs": [],
   "source": [
    "MAX_DEGREE = 20\n",
    "NUMBER_OF_PARTS = 10\n",
    "model_complexity = range(1, MAX_DEGREE + 1)"
   ]
  },
  {
   "cell_type": "code",
   "execution_count": 345,
   "id": "delayed-helmet",
   "metadata": {},
   "outputs": [],
   "source": [
    "# X_train, X_test, y_train, y_test \n",
    "train, test = None, None\n",
    "with open('data/train.pkl', 'rb') as f:\n",
    "    train = pickle.load(f)\n",
    "with open('data/test.pkl', 'rb') as f:\n",
    "    test = pickle.load(f)\n",
    "    \n",
    "# randomly shuffle the data\n",
    "np.random.shuffle(train)\n",
    "\n",
    "# divide data into parts \n",
    "train_set = np.array_split(train, NUMBER_OF_PARTS)"
   ]
  },
  {
   "cell_type": "code",
   "execution_count": 346,
   "id": "sixth-gamma",
   "metadata": {},
   "outputs": [],
   "source": [
    "def get_xy(data):\n",
    "    \"\"\"\n",
    "    Splits data into x and y pairs\n",
    "    and returns numpy array after reshaping\n",
    "    \"\"\"\n",
    "    X, y = [], []\n",
    "    for point in data:\n",
    "        X.append(point[0])\n",
    "        y.append(point[1])\n",
    "    \n",
    "    #convert to numpy array\n",
    "    X = np.asarray(X, dtype=np.float64)\n",
    "    y = np.asarray(y, dtype=np.float64)\n",
    "    \n",
    "    # Reshape X and y\n",
    "    X = X.reshape(-1, 1)\n",
    "    y = y.reshape(-1, 1)\n",
    "    return X, y"
   ]
  },
  {
   "cell_type": "code",
   "execution_count": 1,
   "id": "finished-specific",
   "metadata": {},
   "outputs": [
    {
     "ename": "NameError",
     "evalue": "name 'get_xy' is not defined",
     "output_type": "error",
     "traceback": [
      "\u001b[0;31m---------------------------------------------------------------------------\u001b[0m",
      "\u001b[0;31mNameError\u001b[0m                                 Traceback (most recent call last)",
      "\u001b[0;32m<ipython-input-1-47cdbe8f9e8e>\u001b[0m in \u001b[0;36m<module>\u001b[0;34m\u001b[0m\n\u001b[1;32m      3\u001b[0m \u001b[0mmse_list\u001b[0m \u001b[0;34m=\u001b[0m \u001b[0;34m[\u001b[0m\u001b[0;34m]\u001b[0m\u001b[0;34m\u001b[0m\u001b[0;34m\u001b[0m\u001b[0m\n\u001b[1;32m      4\u001b[0m \u001b[0;34m\u001b[0m\u001b[0m\n\u001b[0;32m----> 5\u001b[0;31m \u001b[0mX_test\u001b[0m\u001b[0;34m,\u001b[0m \u001b[0my_test\u001b[0m \u001b[0;34m=\u001b[0m \u001b[0mget_xy\u001b[0m\u001b[0;34m(\u001b[0m\u001b[0mtest\u001b[0m\u001b[0;34m)\u001b[0m\u001b[0;34m\u001b[0m\u001b[0;34m\u001b[0m\u001b[0m\n\u001b[0m",
      "\u001b[0;31mNameError\u001b[0m: name 'get_xy' is not defined"
     ]
    }
   ],
   "source": [
    "bias_list = []\n",
    "variance_list = []\n",
    "mse_list = []\n",
    "\n",
    "X_test, y_test = get_xy(test)"
   ]
  },
  {
   "cell_type": "code",
   "execution_count": 2,
   "id": "built-romance",
   "metadata": {},
   "outputs": [
    {
     "ename": "NameError",
     "evalue": "name 'MAX_DEGREE' is not defined",
     "output_type": "error",
     "traceback": [
      "\u001b[0;31m---------------------------------------------------------------------------\u001b[0m",
      "\u001b[0;31mNameError\u001b[0m                                 Traceback (most recent call last)",
      "\u001b[0;32m<ipython-input-2-5eba3f74dc0c>\u001b[0m in \u001b[0;36m<module>\u001b[0;34m\u001b[0m\n\u001b[1;32m      1\u001b[0m \u001b[0;31m# loop through the degrees\u001b[0m\u001b[0;34m\u001b[0m\u001b[0;34m\u001b[0m\u001b[0;34m\u001b[0m\u001b[0m\n\u001b[0;32m----> 2\u001b[0;31m \u001b[0;32mfor\u001b[0m \u001b[0mdeg\u001b[0m \u001b[0;32min\u001b[0m \u001b[0mrange\u001b[0m\u001b[0;34m(\u001b[0m\u001b[0;36m1\u001b[0m\u001b[0;34m,\u001b[0m \u001b[0mMAX_DEGREE\u001b[0m \u001b[0;34m+\u001b[0m \u001b[0;36m1\u001b[0m\u001b[0;34m)\u001b[0m\u001b[0;34m:\u001b[0m\u001b[0;34m\u001b[0m\u001b[0;34m\u001b[0m\u001b[0m\n\u001b[0m\u001b[1;32m      3\u001b[0m \u001b[0;34m\u001b[0m\u001b[0m\n\u001b[1;32m      4\u001b[0m \u001b[0;31m#     predictions = []\u001b[0m\u001b[0;34m\u001b[0m\u001b[0;34m\u001b[0m\u001b[0;34m\u001b[0m\u001b[0m\n\u001b[1;32m      5\u001b[0m     \u001b[0mbias_deg_list\u001b[0m \u001b[0;34m=\u001b[0m \u001b[0;34m[\u001b[0m\u001b[0;34m]\u001b[0m\u001b[0;34m\u001b[0m\u001b[0;34m\u001b[0m\u001b[0m\n",
      "\u001b[0;31mNameError\u001b[0m: name 'MAX_DEGREE' is not defined"
     ]
    }
   ],
   "source": [
    "# loop through the degrees\n",
    "for deg in range(1, MAX_DEGREE + 1):\n",
    "    \n",
    "#     predictions = []\n",
    "    bias_deg_list = []\n",
    "    mse_deg_list = []\n",
    "    var_list = []\n",
    "    for part in range(0, NUMBER_OF_PARTS):\n",
    "        \n",
    "        # get training data for  model\n",
    "        X_train, y_train = get_xy(train_set[part])\n",
    "\n",
    "        # create model and fit on data\n",
    "        reg = make_pipeline(PolynomialFeatures(deg), LinearRegression()) \n",
    "        reg.fit(X_train, y_train)\n",
    "\n",
    "        # store predictions of model\n",
    "        y_pred = reg.predict(X_test)\n",
    "#         predictions.append(y_pred)\n",
    "\n",
    "        # store bias\n",
    "        bias = abs(y_pred - y_test)\n",
    "        bias_deg_list.append(bias)\n",
    "\n",
    "        mse = mean_squared_error(y_test, y_pred)\n",
    "        mse_deg_list.append(mse)\n",
    "        \n",
    "        variance = np.mean(y_pred**2) - (np.mean(y_pred))**2\n",
    "        var_list.append(variance)\n",
    "    mse = np.mean(mse_deg_list)    \n",
    "    mse_list.append(mse)\n",
    "    \n",
    "    bias = np.mean(bias_deg_list)\n",
    "    bias_list.append(bias**2)\n",
    "    \n",
    "    # diff = (f` - E[f'])\n",
    "    diff = abs(predictions - np.mean(predictions))\n",
    "#     diff_2 = np.square(diff**2)\n",
    "    variance = np.mean(var_list)\n",
    "    variance_list.append(variance)\n",
    "    \n",
    "plt.plot(model_complexity, bias_list, c=\"b\", label=\"bias_2\") \n",
    "# plt.plot(model_complexity, variance_list, c=\"k\", label=\"variance\")   \n",
    "plt.plot(model_complexity, mse_list, c=\"r\", label=\"mse\")   "
   ]
  },
  {
   "cell_type": "code",
   "execution_count": 349,
   "id": "provincial-section",
   "metadata": {},
   "outputs": [],
   "source": [
    "# bias_list = np.asarray(bias_list, dtype=np.float64)\n",
    "# df = pd.DataFrame({\n",
    "#     'mse': mse_list, \n",
    "#     'bias': bias_list, \n",
    "#     'variance': variance_list, \n",
    "#     'irreducible error': np.subtract(\n",
    "#         mse_list, \n",
    "#         np.add(\n",
    "#             np.square(bias_list, bias_list),\n",
    "#             variance_list\n",
    "#         )\n",
    "#     )\n",
    "#     })\n",
    "# # df.index = np.arange(1, len(df) + 1)\n",
    "# # df"
   ]
  },
  {
   "cell_type": "code",
   "execution_count": 322,
   "id": "departmental-revolution",
   "metadata": {},
   "outputs": [
    {
     "data": {
      "text/plain": [
       "[<matplotlib.lines.Line2D at 0x7f3b8ba3d430>]"
      ]
     },
     "execution_count": 322,
     "metadata": {},
     "output_type": "execute_result"
    },
    {
     "data": {
      "image/png": "[encoded data removed]",
      "text/plain": [
       "<Figure size 432x288 with 1 Axes>"
      ]
     },
     "metadata": {
      "needs_background": "light"
     },
     "output_type": "display_data"
    }
   ],
   "source": [
    "plt.plot(model_complexity, variance_list, c=\"r\", label=\"variance\")   "
   ]
  },
  {
   "cell_type": "code",
   "execution_count": 265,
   "id": "sought-theology",
   "metadata": {},
   "outputs": [
    {
     "data": {
      "text/plain": [
       "[<matplotlib.lines.Line2D at 0x7f3b8be2ecd0>]"
      ]
     },
     "execution_count": 265,
     "metadata": {},
     "output_type": "execute_result"
    },
    {
     "data": {
      "image/png": "[encoded data removed]",
      "text/plain": [
       "<Figure size 432x288 with 1 Axes>"
      ]
     },
     "metadata": {
      "needs_background": "light"
     },
     "output_type": "display_data"
    }
   ],
   "source": [
    "plt.plot(model_complexity, mse_list, c=\"r\", label=\"mse\")   "
   ]
  },
  {
   "cell_type": "code",
   "execution_count": 241,
   "id": "assumed-defeat",
   "metadata": {},
   "outputs": [
    {
     "data": {
      "text/plain": [
       "[<matplotlib.lines.Line2D at 0x7f3b8c2c06d0>]"
      ]
     },
     "execution_count": 241,
     "metadata": {},
     "output_type": "execute_result"
    },
    {
     "data": {
      "image/png": "[encoded data removed]",
      "text/plain": [
       "<Figure size 432x288 with 1 Axes>"
      ]
     },
     "metadata": {
      "needs_background": "light"
     },
     "output_type": "display_data"
    }
   ],
   "source": [
    "plt.plot(model_complexity, np.array(bias_list), c=\"b\", label=\"bias_2\")    \n",
    "plt.plot(model_complexity, np.array(variance_list) * 1000, c=\"r\", label=\"variance\")   \n",
    "plt.plot(model_complexity, np.array(mse_list) * 10000, c=\"r\", label=\"mse\")  "
   ]
  },
  {
   "cell_type": "code",
   "execution_count": 170,
   "id": "authorized-stage",
   "metadata": {},
   "outputs": [
    {
     "data": {
      "text/plain": [
       "array([2.28448859e+23, 2.18169704e+23, 5.44449522e+18, 1.09509889e+19,\n",
       "       2.33281571e+19, 4.74586966e+19, 8.80621404e+19, 1.64394206e+20,\n",
       "       1.86324619e+20, 1.84597395e+20, 2.48750393e+20, 2.31955878e+20,\n",
       "       2.83979973e+20, 2.07743876e+20, 4.25052426e+20, 3.45733903e+20,\n",
       "       8.54724719e+20, 7.77982622e+20, 2.16172453e+21, 2.21290002e+21])"
      ]
     },
     "execution_count": 170,
     "metadata": {},
     "output_type": "execute_result"
    }
   ],
   "source": [
    "\n",
    "np.square(bias_list, bias_list)"
   ]
  },
  {
   "cell_type": "code",
   "execution_count": null,
   "id": "major-finance",
   "metadata": {},
   "outputs": [],
   "source": [
    "a = [1,2,3,4,5]\n",
    "np.mean(a)"
   ]
  },
  {
   "cell_type": "code",
   "execution_count": null,
   "id": "affiliated-disposal",
   "metadata": {},
   "outputs": [],
   "source": []
  }
 ],
 "metadata": {
  "kernelspec": {
   "display_name": "Python 3",
   "language": "python",
   "name": "python3"
  },
  "language_info": {
   "codemirror_mode": {
    "name": "ipython",
    "version": 3
   },
   "file_extension": ".py",
   "mimetype": "text/x-python",
   "name": "python",
   "nbconvert_exporter": "python",
   "pygments_lexer": "ipython3",
   "version": "3.8.5"
  }
 },
 "nbformat": 4,
 "nbformat_minor": 5
}
